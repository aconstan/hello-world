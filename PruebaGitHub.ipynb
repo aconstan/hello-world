{
  "nbformat": 4,
  "nbformat_minor": 0,
  "metadata": {
    "kernelspec": {
      "display_name": "Python 3",
      "language": "python",
      "name": "python3"
    },
    "language_info": {
      "codemirror_mode": {
        "name": "ipython",
        "version": 3
      },
      "file_extension": ".py",
      "mimetype": "text/x-python",
      "name": "python",
      "nbconvert_exporter": "python",
      "pygments_lexer": "ipython3",
      "version": "3.8.5"
    },
    "colab": {
      "name": "PruebaGitHub.ipynb",
      "provenance": [],
      "include_colab_link": true
    }
  },
  "cells": [
    {
      "cell_type": "markdown",
      "metadata": {
        "id": "view-in-github",
        "colab_type": "text"
      },
      "source": [
        "<a href=\"https://colab.research.google.com/github/aconstan/hello-world/blob/main/PruebaGitHub.ipynb\" target=\"_parent\"><img src=\"https://colab.research.google.com/assets/colab-badge.svg\" alt=\"Open In Colab\"/></a>"
      ]
    },
    {
      "cell_type": "code",
      "metadata": {
        "id": "BjT3Dpii0Yem",
        "outputId": "cf5644f7-e086-401a-f15e-e10fef132d8a"
      },
      "source": [
        "print(\"Prueba con GitHub\")"
      ],
      "execution_count": null,
      "outputs": [
        {
          "output_type": "stream",
          "text": [
            "Prueba con GitHub\n"
          ],
          "name": "stdout"
        }
      ]
    },
    {
      "cell_type": "code",
      "metadata": {
        "id": "dtXhUT4o0Yet",
        "colab": {
          "base_uri": "https://localhost:8080/"
        },
        "outputId": "15b79e3d-04a4-4452-8a2c-fb2fb61cb250"
      },
      "source": [
        "print(\"Fin\")"
      ],
      "execution_count": null,
      "outputs": [
        {
          "output_type": "stream",
          "text": [
            "Fin\n"
          ],
          "name": "stdout"
        }
      ]
    },
    {
      "cell_type": "code",
      "metadata": {
        "id": "i2dEjxbs04Tw",
        "colab": {
          "base_uri": "https://localhost:8080/"
        },
        "outputId": "0f7c4b6b-cc08-4636-fbd5-1e45f8d894c9"
      },
      "source": [
        "print(\"Angeles\")"
      ],
      "execution_count": null,
      "outputs": [
        {
          "output_type": "stream",
          "text": [
            "Angeles\n"
          ],
          "name": "stdout"
        }
      ]
    },
    {
      "cell_type": "code",
      "metadata": {
        "id": "FSB3RLHycGF4",
        "colab": {
          "base_uri": "https://localhost:8080/"
        },
        "outputId": "73c68a06-bb9f-4327-c859-dfd8ba44f522"
      },
      "source": [
        "print(\"Ultima prueba\")"
      ],
      "execution_count": null,
      "outputs": [
        {
          "output_type": "stream",
          "text": [
            "Ultima prueba\n"
          ],
          "name": "stdout"
        }
      ]
    },
    {
      "cell_type": "code",
      "metadata": {
        "id": "EIo2aKaheYIu",
        "colab": {
          "base_uri": "https://localhost:8080/"
        },
        "outputId": "c01e6e57-f9e5-45e6-f3d4-5890fd06a40e"
      },
      "source": [
        "print(\"Modificando desde Google Colab\")"
      ],
      "execution_count": 1,
      "outputs": [
        {
          "output_type": "stream",
          "text": [
            "Modificando desde Google Colab\n"
          ],
          "name": "stdout"
        }
      ]
    },
    {
      "cell_type": "code",
      "metadata": {
        "id": "Smz25UO-qKw9"
      },
      "source": [
        ""
      ],
      "execution_count": null,
      "outputs": []
    }
  ]
}